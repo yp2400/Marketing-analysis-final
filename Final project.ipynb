{
 "cells": [
  {
   "cell_type": "code",
   "execution_count": 182,
   "id": "887d6772",
   "metadata": {},
   "outputs": [],
   "source": [
    "import pandas as pd\n",
    "import numpy as np\n",
    "import statsmodels.api as sm\n",
    "from sklearn.metrics import confusion_matrix\n",
    "from sklearn import model_selection\n",
    "from matplotlib import pyplot as plt\n",
    "import copy\n",
    "import math\n",
    "import warnings\n",
    "warnings.filterwarnings('ignore')"
   ]
  },
  {
   "cell_type": "code",
   "execution_count": 126,
   "id": "8834bd29",
   "metadata": {},
   "outputs": [],
   "source": [
    "df1=pd.read_pickle('subscribers')"
   ]
  },
  {
   "cell_type": "code",
   "execution_count": 124,
   "id": "a8b520f5",
   "metadata": {
    "scrolled": true
   },
   "outputs": [
    {
     "name": "stdout",
     "output_type": "stream",
     "text": [
      "<class 'pandas.core.frame.DataFrame'>\n",
      "Int64Index: 227628 entries, 162502 to 598241\n",
      "Data columns (total 29 columns):\n",
      " #   Column                        Non-Null Count   Dtype         \n",
      "---  ------                        --------------   -----         \n",
      " 0   subid                         227628 non-null  int64         \n",
      " 1   package_type                  192054 non-null  object        \n",
      " 2   num_weekly_services_utilized  117178 non-null  float64       \n",
      " 3   preferred_genre               191302 non-null  object        \n",
      " 4   intended_use                  224079 non-null  object        \n",
      " 5   weekly_consumption_hour       189698 non-null  float64       \n",
      " 6   num_ideal_streaming_services  115458 non-null  float64       \n",
      " 7   retarget_TF                   227628 non-null  bool          \n",
      " 8   age                           192459 non-null  float64       \n",
      " 9   male_TF                       227359 non-null  object        \n",
      " 10  country                       227628 non-null  object        \n",
      " 11  attribution_technical         227628 non-null  object        \n",
      " 12  attribution_survey            224984 non-null  object        \n",
      " 13  op_sys                        214253 non-null  object        \n",
      " 14  months_per_bill_period        227628 non-null  int64         \n",
      " 15  plan_type                     227628 non-null  object        \n",
      " 16  monthly_price                 227628 non-null  float64       \n",
      " 17  discount_price                227628 non-null  float64       \n",
      " 18  account_creation_date         227628 non-null  datetime64[ns]\n",
      " 19  creation_until_cancel_days    151768 non-null  float64       \n",
      " 20  cancel_before_trial_end       227628 non-null  bool          \n",
      " 21  trial_end_date                227628 non-null  datetime64[ns]\n",
      " 22  initial_credit_card_declined  227628 non-null  bool          \n",
      " 23  revenue_net                   192724 non-null  float64       \n",
      " 24  join_fee                      192724 non-null  float64       \n",
      " 25  language                      227628 non-null  object        \n",
      " 26  paid_TF                       227628 non-null  bool          \n",
      " 27  refund_after_trial_TF         227628 non-null  bool          \n",
      " 28  payment_type                  92050 non-null   object        \n",
      "dtypes: bool(5), datetime64[ns](2), float64(9), int64(2), object(11)\n",
      "memory usage: 44.5+ MB\n"
     ]
    }
   ],
   "source": [
    "df1.info()"
   ]
  },
  {
   "cell_type": "code",
   "execution_count": 26,
   "id": "5fbd17e8",
   "metadata": {},
   "outputs": [
    {
     "data": {
      "text/html": [
       "<div>\n",
       "<style scoped>\n",
       "    .dataframe tbody tr th:only-of-type {\n",
       "        vertical-align: middle;\n",
       "    }\n",
       "\n",
       "    .dataframe tbody tr th {\n",
       "        vertical-align: top;\n",
       "    }\n",
       "\n",
       "    .dataframe thead th {\n",
       "        text-align: right;\n",
       "    }\n",
       "</style>\n",
       "<table border=\"1\" class=\"dataframe\">\n",
       "  <thead>\n",
       "    <tr style=\"text-align: right;\">\n",
       "      <th></th>\n",
       "      <th>subid</th>\n",
       "      <th>package_type</th>\n",
       "      <th>num_weekly_services_utilized</th>\n",
       "      <th>preferred_genre</th>\n",
       "      <th>intended_use</th>\n",
       "      <th>weekly_consumption_hour</th>\n",
       "      <th>num_ideal_streaming_services</th>\n",
       "      <th>retarget_TF</th>\n",
       "      <th>age</th>\n",
       "      <th>male_TF</th>\n",
       "      <th>...</th>\n",
       "      <th>creation_until_cancel_days</th>\n",
       "      <th>cancel_before_trial_end</th>\n",
       "      <th>trial_end_date</th>\n",
       "      <th>initial_credit_card_declined</th>\n",
       "      <th>revenue_net</th>\n",
       "      <th>join_fee</th>\n",
       "      <th>language</th>\n",
       "      <th>paid_TF</th>\n",
       "      <th>refund_after_trial_TF</th>\n",
       "      <th>payment_type</th>\n",
       "    </tr>\n",
       "  </thead>\n",
       "  <tbody>\n",
       "    <tr>\n",
       "      <th>162502</th>\n",
       "      <td>21724479</td>\n",
       "      <td>economy</td>\n",
       "      <td>NaN</td>\n",
       "      <td>comedy</td>\n",
       "      <td>access to exclusive content</td>\n",
       "      <td>NaN</td>\n",
       "      <td>NaN</td>\n",
       "      <td>False</td>\n",
       "      <td>NaN</td>\n",
       "      <td>False</td>\n",
       "      <td>...</td>\n",
       "      <td>NaN</td>\n",
       "      <td>True</td>\n",
       "      <td>2020-02-08</td>\n",
       "      <td>False</td>\n",
       "      <td>NaN</td>\n",
       "      <td>NaN</td>\n",
       "      <td>ar</td>\n",
       "      <td>True</td>\n",
       "      <td>False</td>\n",
       "      <td>Standard Charter</td>\n",
       "    </tr>\n",
       "    <tr>\n",
       "      <th>380374</th>\n",
       "      <td>23383224</td>\n",
       "      <td>base</td>\n",
       "      <td>NaN</td>\n",
       "      <td>comedy</td>\n",
       "      <td>access to exclusive content</td>\n",
       "      <td>22.951579</td>\n",
       "      <td>NaN</td>\n",
       "      <td>False</td>\n",
       "      <td>70.0</td>\n",
       "      <td>False</td>\n",
       "      <td>...</td>\n",
       "      <td>0.0</td>\n",
       "      <td>False</td>\n",
       "      <td>2020-03-16</td>\n",
       "      <td>False</td>\n",
       "      <td>0.0</td>\n",
       "      <td>0.3303</td>\n",
       "      <td>ar</td>\n",
       "      <td>False</td>\n",
       "      <td>False</td>\n",
       "      <td>NaN</td>\n",
       "    </tr>\n",
       "    <tr>\n",
       "      <th>496617</th>\n",
       "      <td>26844789</td>\n",
       "      <td>enhanced</td>\n",
       "      <td>3.362885</td>\n",
       "      <td>regional</td>\n",
       "      <td>replace OTT</td>\n",
       "      <td>36.001186</td>\n",
       "      <td>1.951776</td>\n",
       "      <td>False</td>\n",
       "      <td>25.0</td>\n",
       "      <td>True</td>\n",
       "      <td>...</td>\n",
       "      <td>1.0</td>\n",
       "      <td>False</td>\n",
       "      <td>2019-12-22</td>\n",
       "      <td>False</td>\n",
       "      <td>0.0</td>\n",
       "      <td>0.1101</td>\n",
       "      <td>ar</td>\n",
       "      <td>False</td>\n",
       "      <td>False</td>\n",
       "      <td>NaN</td>\n",
       "    </tr>\n",
       "    <tr>\n",
       "      <th>356799</th>\n",
       "      <td>29417030</td>\n",
       "      <td>base</td>\n",
       "      <td>NaN</td>\n",
       "      <td>drama</td>\n",
       "      <td>replace OTT</td>\n",
       "      <td>20.051667</td>\n",
       "      <td>NaN</td>\n",
       "      <td>False</td>\n",
       "      <td>30.0</td>\n",
       "      <td>False</td>\n",
       "      <td>...</td>\n",
       "      <td>0.0</td>\n",
       "      <td>False</td>\n",
       "      <td>2020-02-11</td>\n",
       "      <td>False</td>\n",
       "      <td>0.0</td>\n",
       "      <td>0.0367</td>\n",
       "      <td>ar</td>\n",
       "      <td>False</td>\n",
       "      <td>False</td>\n",
       "      <td>NaN</td>\n",
       "    </tr>\n",
       "    <tr>\n",
       "      <th>681701</th>\n",
       "      <td>26723159</td>\n",
       "      <td>base</td>\n",
       "      <td>3.731089</td>\n",
       "      <td>comedy</td>\n",
       "      <td>replace OTT</td>\n",
       "      <td>22.951579</td>\n",
       "      <td>2.506384</td>\n",
       "      <td>False</td>\n",
       "      <td>28.0</td>\n",
       "      <td>False</td>\n",
       "      <td>...</td>\n",
       "      <td>9.0</td>\n",
       "      <td>False</td>\n",
       "      <td>2019-10-20</td>\n",
       "      <td>False</td>\n",
       "      <td>0.0</td>\n",
       "      <td>0.0367</td>\n",
       "      <td>ar</td>\n",
       "      <td>False</td>\n",
       "      <td>False</td>\n",
       "      <td>NaN</td>\n",
       "    </tr>\n",
       "  </tbody>\n",
       "</table>\n",
       "<p>5 rows × 29 columns</p>\n",
       "</div>"
      ],
      "text/plain": [
       "           subid package_type  num_weekly_services_utilized preferred_genre  \\\n",
       "162502  21724479      economy                           NaN          comedy   \n",
       "380374  23383224         base                           NaN          comedy   \n",
       "496617  26844789     enhanced                      3.362885        regional   \n",
       "356799  29417030         base                           NaN           drama   \n",
       "681701  26723159         base                      3.731089          comedy   \n",
       "\n",
       "                       intended_use  weekly_consumption_hour  \\\n",
       "162502  access to exclusive content                      NaN   \n",
       "380374  access to exclusive content                22.951579   \n",
       "496617                  replace OTT                36.001186   \n",
       "356799                  replace OTT                20.051667   \n",
       "681701                  replace OTT                22.951579   \n",
       "\n",
       "        num_ideal_streaming_services  retarget_TF   age male_TF  ...  \\\n",
       "162502                           NaN        False   NaN   False  ...   \n",
       "380374                           NaN        False  70.0   False  ...   \n",
       "496617                      1.951776        False  25.0    True  ...   \n",
       "356799                           NaN        False  30.0   False  ...   \n",
       "681701                      2.506384        False  28.0   False  ...   \n",
       "\n",
       "       creation_until_cancel_days cancel_before_trial_end trial_end_date  \\\n",
       "162502                        NaN                    True     2020-02-08   \n",
       "380374                        0.0                   False     2020-03-16   \n",
       "496617                        1.0                   False     2019-12-22   \n",
       "356799                        0.0                   False     2020-02-11   \n",
       "681701                        9.0                   False     2019-10-20   \n",
       "\n",
       "       initial_credit_card_declined  revenue_net join_fee  language  paid_TF  \\\n",
       "162502                        False          NaN      NaN        ar     True   \n",
       "380374                        False          0.0   0.3303        ar    False   \n",
       "496617                        False          0.0   0.1101        ar    False   \n",
       "356799                        False          0.0   0.0367        ar    False   \n",
       "681701                        False          0.0   0.0367        ar    False   \n",
       "\n",
       "       refund_after_trial_TF      payment_type  \n",
       "162502                 False  Standard Charter  \n",
       "380374                 False               NaN  \n",
       "496617                 False               NaN  \n",
       "356799                 False               NaN  \n",
       "681701                 False               NaN  \n",
       "\n",
       "[5 rows x 29 columns]"
      ]
     },
     "execution_count": 26,
     "metadata": {},
     "output_type": "execute_result"
    }
   ],
   "source": [
    "df1.head()"
   ]
  },
  {
   "cell_type": "code",
   "execution_count": 119,
   "id": "1cecb593",
   "metadata": {},
   "outputs": [],
   "source": [
    "df2=pd.read_pickle('engagement')"
   ]
  },
  {
   "cell_type": "code",
   "execution_count": 118,
   "id": "58f40fa7",
   "metadata": {},
   "outputs": [],
   "source": [
    "df3=pd.read_pickle('customer_service_reps')"
   ]
  },
  {
   "cell_type": "markdown",
   "id": "fc56151b",
   "metadata": {},
   "source": [
    "## A/B Testing"
   ]
  },
  {
   "cell_type": "code",
   "execution_count": 39,
   "id": "b7d5b7ea",
   "metadata": {},
   "outputs": [
    {
     "data": {
      "text/plain": [
       "base_uae_14_day_trial                227096\n",
       "high_uae_14_day_trial                   325\n",
       "low_uae_no_trial                        167\n",
       "base_eur_14_day_trial                    18\n",
       "high_sar_14_day_trial                    12\n",
       "low_gbp_14_day_trial                      4\n",
       "high_aud_14_day_trial                     2\n",
       "low_eur_no_trial                          1\n",
       "base_uae_no_trial_7_day_guarantee         1\n",
       "low_sar_no_trial                          1\n",
       "high_jpy_14_day_trial                     1\n",
       "Name: plan_type, dtype: int64"
      ]
     },
     "execution_count": 39,
     "metadata": {},
     "output_type": "execute_result"
    }
   ],
   "source": [
    "df1.plan_type.value_counts()"
   ]
  },
  {
   "cell_type": "code",
   "execution_count": 121,
   "id": "d5895347",
   "metadata": {},
   "outputs": [
    {
     "data": {
      "text/plain": [
       "4.7343    227101\n",
       "5.1013       325\n",
       "1.0643       167\n",
       "4.4407        18\n",
       "4.3673        12\n",
       "4.0003         2\n",
       "1.1744         1\n",
       "0.8074         1\n",
       "4.6976         1\n",
       "Name: monthly_price, dtype: int64"
      ]
     },
     "execution_count": 121,
     "metadata": {},
     "output_type": "execute_result"
    }
   ],
   "source": [
    "df1.monthly_price.value_counts()"
   ]
  },
  {
   "cell_type": "code",
   "execution_count": 122,
   "id": "cff3329d",
   "metadata": {},
   "outputs": [
    {
     "data": {
      "text/html": [
       "<div>\n",
       "<style scoped>\n",
       "    .dataframe tbody tr th:only-of-type {\n",
       "        vertical-align: middle;\n",
       "    }\n",
       "\n",
       "    .dataframe tbody tr th {\n",
       "        vertical-align: top;\n",
       "    }\n",
       "\n",
       "    .dataframe thead th {\n",
       "        text-align: right;\n",
       "    }\n",
       "</style>\n",
       "<table border=\"1\" class=\"dataframe\">\n",
       "  <thead>\n",
       "    <tr style=\"text-align: right;\">\n",
       "      <th></th>\n",
       "      <th>subid</th>\n",
       "      <th>package_type</th>\n",
       "      <th>num_weekly_services_utilized</th>\n",
       "      <th>preferred_genre</th>\n",
       "      <th>intended_use</th>\n",
       "      <th>weekly_consumption_hour</th>\n",
       "      <th>num_ideal_streaming_services</th>\n",
       "      <th>retarget_TF</th>\n",
       "      <th>age</th>\n",
       "      <th>male_TF</th>\n",
       "      <th>...</th>\n",
       "      <th>creation_until_cancel_days</th>\n",
       "      <th>cancel_before_trial_end</th>\n",
       "      <th>trial_end_date</th>\n",
       "      <th>initial_credit_card_declined</th>\n",
       "      <th>revenue_net</th>\n",
       "      <th>join_fee</th>\n",
       "      <th>language</th>\n",
       "      <th>paid_TF</th>\n",
       "      <th>refund_after_trial_TF</th>\n",
       "      <th>payment_type</th>\n",
       "    </tr>\n",
       "  </thead>\n",
       "  <tbody>\n",
       "    <tr>\n",
       "      <th>511887</th>\n",
       "      <td>22031615</td>\n",
       "      <td>NaN</td>\n",
       "      <td>3.952015</td>\n",
       "      <td>NaN</td>\n",
       "      <td>NaN</td>\n",
       "      <td>NaN</td>\n",
       "      <td>NaN</td>\n",
       "      <td>True</td>\n",
       "      <td>25.0</td>\n",
       "      <td>False</td>\n",
       "      <td>...</td>\n",
       "      <td>22.0</td>\n",
       "      <td>True</td>\n",
       "      <td>2019-07-24</td>\n",
       "      <td>True</td>\n",
       "      <td>0.0000</td>\n",
       "      <td>0.0000</td>\n",
       "      <td>ar</td>\n",
       "      <td>False</td>\n",
       "      <td>False</td>\n",
       "      <td>NaN</td>\n",
       "    </tr>\n",
       "    <tr>\n",
       "      <th>31201</th>\n",
       "      <td>28496166</td>\n",
       "      <td>NaN</td>\n",
       "      <td>2.273003</td>\n",
       "      <td>NaN</td>\n",
       "      <td>NaN</td>\n",
       "      <td>NaN</td>\n",
       "      <td>NaN</td>\n",
       "      <td>True</td>\n",
       "      <td>40.0</td>\n",
       "      <td>False</td>\n",
       "      <td>...</td>\n",
       "      <td>NaN</td>\n",
       "      <td>True</td>\n",
       "      <td>2019-07-27</td>\n",
       "      <td>False</td>\n",
       "      <td>3.0828</td>\n",
       "      <td>0.0000</td>\n",
       "      <td>ar</td>\n",
       "      <td>True</td>\n",
       "      <td>False</td>\n",
       "      <td>Paypal</td>\n",
       "    </tr>\n",
       "    <tr>\n",
       "      <th>522051</th>\n",
       "      <td>21941388</td>\n",
       "      <td>NaN</td>\n",
       "      <td>NaN</td>\n",
       "      <td>NaN</td>\n",
       "      <td>NaN</td>\n",
       "      <td>NaN</td>\n",
       "      <td>NaN</td>\n",
       "      <td>True</td>\n",
       "      <td>26.0</td>\n",
       "      <td>False</td>\n",
       "      <td>...</td>\n",
       "      <td>0.0</td>\n",
       "      <td>False</td>\n",
       "      <td>2019-07-28</td>\n",
       "      <td>False</td>\n",
       "      <td>0.0000</td>\n",
       "      <td>0.0000</td>\n",
       "      <td>ar</td>\n",
       "      <td>False</td>\n",
       "      <td>False</td>\n",
       "      <td>NaN</td>\n",
       "    </tr>\n",
       "    <tr>\n",
       "      <th>12672</th>\n",
       "      <td>21827870</td>\n",
       "      <td>NaN</td>\n",
       "      <td>2.361372</td>\n",
       "      <td>NaN</td>\n",
       "      <td>NaN</td>\n",
       "      <td>NaN</td>\n",
       "      <td>NaN</td>\n",
       "      <td>True</td>\n",
       "      <td>49.0</td>\n",
       "      <td>False</td>\n",
       "      <td>...</td>\n",
       "      <td>NaN</td>\n",
       "      <td>True</td>\n",
       "      <td>2019-07-25</td>\n",
       "      <td>False</td>\n",
       "      <td>1.0276</td>\n",
       "      <td>0.0000</td>\n",
       "      <td>ar</td>\n",
       "      <td>True</td>\n",
       "      <td>False</td>\n",
       "      <td>Standard Charter</td>\n",
       "    </tr>\n",
       "    <tr>\n",
       "      <th>124600</th>\n",
       "      <td>21327523</td>\n",
       "      <td>NaN</td>\n",
       "      <td>4.231850</td>\n",
       "      <td>NaN</td>\n",
       "      <td>NaN</td>\n",
       "      <td>NaN</td>\n",
       "      <td>NaN</td>\n",
       "      <td>True</td>\n",
       "      <td>41.0</td>\n",
       "      <td>True</td>\n",
       "      <td>...</td>\n",
       "      <td>NaN</td>\n",
       "      <td>True</td>\n",
       "      <td>2019-07-26</td>\n",
       "      <td>False</td>\n",
       "      <td>3.0828</td>\n",
       "      <td>0.0000</td>\n",
       "      <td>ar</td>\n",
       "      <td>True</td>\n",
       "      <td>False</td>\n",
       "      <td>Paypal</td>\n",
       "    </tr>\n",
       "    <tr>\n",
       "      <th>...</th>\n",
       "      <td>...</td>\n",
       "      <td>...</td>\n",
       "      <td>...</td>\n",
       "      <td>...</td>\n",
       "      <td>...</td>\n",
       "      <td>...</td>\n",
       "      <td>...</td>\n",
       "      <td>...</td>\n",
       "      <td>...</td>\n",
       "      <td>...</td>\n",
       "      <td>...</td>\n",
       "      <td>...</td>\n",
       "      <td>...</td>\n",
       "      <td>...</td>\n",
       "      <td>...</td>\n",
       "      <td>...</td>\n",
       "      <td>...</td>\n",
       "      <td>...</td>\n",
       "      <td>...</td>\n",
       "      <td>...</td>\n",
       "      <td>...</td>\n",
       "    </tr>\n",
       "    <tr>\n",
       "      <th>669347</th>\n",
       "      <td>24078393</td>\n",
       "      <td>enhanced</td>\n",
       "      <td>2.094663</td>\n",
       "      <td>comedy</td>\n",
       "      <td>other</td>\n",
       "      <td>28.751405</td>\n",
       "      <td>1.762910</td>\n",
       "      <td>False</td>\n",
       "      <td>20.0</td>\n",
       "      <td>False</td>\n",
       "      <td>...</td>\n",
       "      <td>4.0</td>\n",
       "      <td>False</td>\n",
       "      <td>2019-11-10</td>\n",
       "      <td>False</td>\n",
       "      <td>0.0000</td>\n",
       "      <td>0.0367</td>\n",
       "      <td>ar</td>\n",
       "      <td>False</td>\n",
       "      <td>False</td>\n",
       "      <td>NaN</td>\n",
       "    </tr>\n",
       "    <tr>\n",
       "      <th>355551</th>\n",
       "      <td>25953928</td>\n",
       "      <td>base</td>\n",
       "      <td>2.331916</td>\n",
       "      <td>comedy</td>\n",
       "      <td>replace OTT</td>\n",
       "      <td>25.851492</td>\n",
       "      <td>1.658939</td>\n",
       "      <td>False</td>\n",
       "      <td>48.0</td>\n",
       "      <td>False</td>\n",
       "      <td>...</td>\n",
       "      <td>6.0</td>\n",
       "      <td>False</td>\n",
       "      <td>2019-08-23</td>\n",
       "      <td>False</td>\n",
       "      <td>0.0000</td>\n",
       "      <td>0.0367</td>\n",
       "      <td>ar</td>\n",
       "      <td>False</td>\n",
       "      <td>False</td>\n",
       "      <td>NaN</td>\n",
       "    </tr>\n",
       "    <tr>\n",
       "      <th>64703</th>\n",
       "      <td>29467306</td>\n",
       "      <td>enhanced</td>\n",
       "      <td>NaN</td>\n",
       "      <td>comedy</td>\n",
       "      <td>access to exclusive content</td>\n",
       "      <td>30.201361</td>\n",
       "      <td>NaN</td>\n",
       "      <td>False</td>\n",
       "      <td>53.0</td>\n",
       "      <td>False</td>\n",
       "      <td>...</td>\n",
       "      <td>NaN</td>\n",
       "      <td>True</td>\n",
       "      <td>2020-02-14</td>\n",
       "      <td>False</td>\n",
       "      <td>4.2572</td>\n",
       "      <td>0.0367</td>\n",
       "      <td>ar</td>\n",
       "      <td>True</td>\n",
       "      <td>False</td>\n",
       "      <td>Standard Charter</td>\n",
       "    </tr>\n",
       "    <tr>\n",
       "      <th>7746</th>\n",
       "      <td>25226506</td>\n",
       "      <td>NaN</td>\n",
       "      <td>NaN</td>\n",
       "      <td>NaN</td>\n",
       "      <td>NaN</td>\n",
       "      <td>NaN</td>\n",
       "      <td>NaN</td>\n",
       "      <td>True</td>\n",
       "      <td>50.0</td>\n",
       "      <td>True</td>\n",
       "      <td>...</td>\n",
       "      <td>12.0</td>\n",
       "      <td>True</td>\n",
       "      <td>2019-07-26</td>\n",
       "      <td>False</td>\n",
       "      <td>0.0000</td>\n",
       "      <td>0.0000</td>\n",
       "      <td>ar</td>\n",
       "      <td>True</td>\n",
       "      <td>True</td>\n",
       "      <td>Paypal</td>\n",
       "    </tr>\n",
       "    <tr>\n",
       "      <th>112760</th>\n",
       "      <td>23716856</td>\n",
       "      <td>NaN</td>\n",
       "      <td>2.643407</td>\n",
       "      <td>NaN</td>\n",
       "      <td>NaN</td>\n",
       "      <td>NaN</td>\n",
       "      <td>NaN</td>\n",
       "      <td>True</td>\n",
       "      <td>32.0</td>\n",
       "      <td>False</td>\n",
       "      <td>...</td>\n",
       "      <td>NaN</td>\n",
       "      <td>True</td>\n",
       "      <td>2019-08-10</td>\n",
       "      <td>False</td>\n",
       "      <td>0.7707</td>\n",
       "      <td>0.0000</td>\n",
       "      <td>ar</td>\n",
       "      <td>True</td>\n",
       "      <td>False</td>\n",
       "      <td>Standard Charter</td>\n",
       "    </tr>\n",
       "  </tbody>\n",
       "</table>\n",
       "<p>173 rows × 29 columns</p>\n",
       "</div>"
      ],
      "text/plain": [
       "           subid package_type  num_weekly_services_utilized preferred_genre  \\\n",
       "511887  22031615          NaN                      3.952015             NaN   \n",
       "31201   28496166          NaN                      2.273003             NaN   \n",
       "522051  21941388          NaN                           NaN             NaN   \n",
       "12672   21827870          NaN                      2.361372             NaN   \n",
       "124600  21327523          NaN                      4.231850             NaN   \n",
       "...          ...          ...                           ...             ...   \n",
       "669347  24078393     enhanced                      2.094663          comedy   \n",
       "355551  25953928         base                      2.331916          comedy   \n",
       "64703   29467306     enhanced                           NaN          comedy   \n",
       "7746    25226506          NaN                           NaN             NaN   \n",
       "112760  23716856          NaN                      2.643407             NaN   \n",
       "\n",
       "                       intended_use  weekly_consumption_hour  \\\n",
       "511887                          NaN                      NaN   \n",
       "31201                           NaN                      NaN   \n",
       "522051                          NaN                      NaN   \n",
       "12672                           NaN                      NaN   \n",
       "124600                          NaN                      NaN   \n",
       "...                             ...                      ...   \n",
       "669347                        other                28.751405   \n",
       "355551                  replace OTT                25.851492   \n",
       "64703   access to exclusive content                30.201361   \n",
       "7746                            NaN                      NaN   \n",
       "112760                          NaN                      NaN   \n",
       "\n",
       "        num_ideal_streaming_services  retarget_TF   age male_TF  ...  \\\n",
       "511887                           NaN         True  25.0   False  ...   \n",
       "31201                            NaN         True  40.0   False  ...   \n",
       "522051                           NaN         True  26.0   False  ...   \n",
       "12672                            NaN         True  49.0   False  ...   \n",
       "124600                           NaN         True  41.0    True  ...   \n",
       "...                              ...          ...   ...     ...  ...   \n",
       "669347                      1.762910        False  20.0   False  ...   \n",
       "355551                      1.658939        False  48.0   False  ...   \n",
       "64703                            NaN        False  53.0   False  ...   \n",
       "7746                             NaN         True  50.0    True  ...   \n",
       "112760                           NaN         True  32.0   False  ...   \n",
       "\n",
       "       creation_until_cancel_days cancel_before_trial_end trial_end_date  \\\n",
       "511887                       22.0                    True     2019-07-24   \n",
       "31201                         NaN                    True     2019-07-27   \n",
       "522051                        0.0                   False     2019-07-28   \n",
       "12672                         NaN                    True     2019-07-25   \n",
       "124600                        NaN                    True     2019-07-26   \n",
       "...                           ...                     ...            ...   \n",
       "669347                        4.0                   False     2019-11-10   \n",
       "355551                        6.0                   False     2019-08-23   \n",
       "64703                         NaN                    True     2020-02-14   \n",
       "7746                         12.0                    True     2019-07-26   \n",
       "112760                        NaN                    True     2019-08-10   \n",
       "\n",
       "       initial_credit_card_declined  revenue_net join_fee  language  paid_TF  \\\n",
       "511887                         True       0.0000   0.0000        ar    False   \n",
       "31201                         False       3.0828   0.0000        ar     True   \n",
       "522051                        False       0.0000   0.0000        ar    False   \n",
       "12672                         False       1.0276   0.0000        ar     True   \n",
       "124600                        False       3.0828   0.0000        ar     True   \n",
       "...                             ...          ...      ...       ...      ...   \n",
       "669347                        False       0.0000   0.0367        ar    False   \n",
       "355551                        False       0.0000   0.0367        ar    False   \n",
       "64703                         False       4.2572   0.0367        ar     True   \n",
       "7746                          False       0.0000   0.0000        ar     True   \n",
       "112760                        False       0.7707   0.0000        ar     True   \n",
       "\n",
       "       refund_after_trial_TF      payment_type  \n",
       "511887                 False               NaN  \n",
       "31201                  False            Paypal  \n",
       "522051                 False               NaN  \n",
       "12672                  False  Standard Charter  \n",
       "124600                 False            Paypal  \n",
       "...                      ...               ...  \n",
       "669347                 False               NaN  \n",
       "355551                 False               NaN  \n",
       "64703                  False  Standard Charter  \n",
       "7746                    True            Paypal  \n",
       "112760                 False  Standard Charter  \n",
       "\n",
       "[173 rows x 29 columns]"
      ]
     },
     "execution_count": 122,
     "metadata": {},
     "output_type": "execute_result"
    }
   ],
   "source": [
    "df_low"
   ]
  },
  {
   "cell_type": "code",
   "execution_count": 71,
   "id": "27365ee3",
   "metadata": {},
   "outputs": [],
   "source": [
    "df_base = pd.concat([df1[df1['plan_type']=='base_uae_14_day_trial'],df1[df1['plan_type']=='base_eur_14_day_trial'],df1[df1['plan_type']=='base_uae_no_trial_7_day_guarantee']],axis=0)"
   ]
  },
  {
   "cell_type": "code",
   "execution_count": 73,
   "id": "10991a57",
   "metadata": {},
   "outputs": [
    {
     "data": {
      "text/plain": [
       "227115"
      ]
     },
     "execution_count": 73,
     "metadata": {},
     "output_type": "execute_result"
    }
   ],
   "source": [
    "len(df_base)"
   ]
  },
  {
   "cell_type": "code",
   "execution_count": 74,
   "id": "ba1cb976",
   "metadata": {},
   "outputs": [],
   "source": [
    "df_low = pd.concat([df1[df1['plan_type']=='low_uae_no_trial'],df1[df1['plan_type']=='low_gbp_14_day_trial'],df1[df1['plan_type']=='low_eur_no_trial'],df1[df1['plan_type']=='low_sar_no_trial']],axis=0)"
   ]
  },
  {
   "cell_type": "code",
   "execution_count": 76,
   "id": "1e1e32ef",
   "metadata": {},
   "outputs": [
    {
     "data": {
      "text/plain": [
       "173"
      ]
     },
     "execution_count": 76,
     "metadata": {},
     "output_type": "execute_result"
    }
   ],
   "source": [
    "len(df_low)"
   ]
  },
  {
   "cell_type": "code",
   "execution_count": 120,
   "id": "c805309b",
   "metadata": {},
   "outputs": [
    {
     "data": {
      "text/plain": [
       "340"
      ]
     },
     "execution_count": 120,
     "metadata": {},
     "output_type": "execute_result"
    }
   ],
   "source": [
    "len(df_high)"
   ]
  },
  {
   "cell_type": "code",
   "execution_count": 77,
   "id": "b7625f74",
   "metadata": {},
   "outputs": [],
   "source": [
    "df_high = pd.concat([df1[df1['plan_type']=='high_uae_14_day_trial'],df1[df1['plan_type']=='high_sar_14_day_trial'],df1[df1['plan_type']=='high_aud_14_day_trial'],df1[df1['plan_type']=='high_jpy_14_day_trial']],axis=0)"
   ]
  },
  {
   "cell_type": "code",
   "execution_count": 79,
   "id": "59e44e04",
   "metadata": {},
   "outputs": [
    {
     "data": {
      "text/plain": [
       "False    135578\n",
       "True      92050\n",
       "Name: paid_TF, dtype: int64"
      ]
     },
     "execution_count": 79,
     "metadata": {},
     "output_type": "execute_result"
    }
   ],
   "source": [
    "df1.paid_TF.value_counts()"
   ]
  },
  {
   "cell_type": "code",
   "execution_count": 82,
   "id": "da122b7c",
   "metadata": {},
   "outputs": [
    {
     "data": {
      "text/plain": [
       "0.4041476784888713"
      ]
     },
     "execution_count": 82,
     "metadata": {},
     "output_type": "execute_result"
    }
   ],
   "source": [
    "df_base['paid_TF'].mean()"
   ]
  },
  {
   "cell_type": "code",
   "execution_count": 83,
   "id": "4c315b70",
   "metadata": {},
   "outputs": [
    {
     "data": {
      "text/plain": [
       "0.791907514450867"
      ]
     },
     "execution_count": 83,
     "metadata": {},
     "output_type": "execute_result"
    }
   ],
   "source": [
    "df_low['paid_TF'].mean()"
   ]
  },
  {
   "cell_type": "code",
   "execution_count": 85,
   "id": "bee7feb4",
   "metadata": {},
   "outputs": [
    {
     "data": {
      "text/plain": [
       "0.36764705882352944"
      ]
     },
     "execution_count": 85,
     "metadata": {},
     "output_type": "execute_result"
    }
   ],
   "source": [
    "df_high['paid_TF'].mean()"
   ]
  },
  {
   "cell_type": "code",
   "execution_count": 179,
   "id": "bdd42c26",
   "metadata": {},
   "outputs": [
    {
     "data": {
      "text/plain": [
       "False    135578\n",
       "True      92050\n",
       "Name: paid_TF, dtype: int64"
      ]
     },
     "execution_count": 179,
     "metadata": {},
     "output_type": "execute_result"
    }
   ],
   "source": [
    "df1.paid_TF.value_counts()"
   ]
  },
  {
   "cell_type": "code",
   "execution_count": 47,
   "id": "5f35b03d",
   "metadata": {},
   "outputs": [
    {
     "data": {
      "text/html": [
       "<div>\n",
       "<style scoped>\n",
       "    .dataframe tbody tr th:only-of-type {\n",
       "        vertical-align: middle;\n",
       "    }\n",
       "\n",
       "    .dataframe tbody tr th {\n",
       "        vertical-align: top;\n",
       "    }\n",
       "\n",
       "    .dataframe thead th {\n",
       "        text-align: right;\n",
       "    }\n",
       "</style>\n",
       "<table border=\"1\" class=\"dataframe\">\n",
       "  <thead>\n",
       "    <tr style=\"text-align: right;\">\n",
       "      <th>refund_after_trial_TF</th>\n",
       "      <th>False</th>\n",
       "      <th>True</th>\n",
       "    </tr>\n",
       "    <tr>\n",
       "      <th>paid_TF</th>\n",
       "      <th></th>\n",
       "      <th></th>\n",
       "    </tr>\n",
       "  </thead>\n",
       "  <tbody>\n",
       "    <tr>\n",
       "      <th>False</th>\n",
       "      <td>135578</td>\n",
       "      <td>0</td>\n",
       "    </tr>\n",
       "    <tr>\n",
       "      <th>True</th>\n",
       "      <td>82805</td>\n",
       "      <td>9245</td>\n",
       "    </tr>\n",
       "  </tbody>\n",
       "</table>\n",
       "</div>"
      ],
      "text/plain": [
       "refund_after_trial_TF   False  True\n",
       "paid_TF                            \n",
       "False                  135578     0\n",
       "True                    82805  9245"
      ]
     },
     "execution_count": 47,
     "metadata": {},
     "output_type": "execute_result"
    }
   ],
   "source": [
    "pd.crosstab(df1['paid_TF'],df1['refund_after_trial_TF'])"
   ]
  },
  {
   "cell_type": "code",
   "execution_count": 117,
   "id": "320b2549",
   "metadata": {},
   "outputs": [
    {
     "name": "stdout",
     "output_type": "stream",
     "text": [
      "-12.520493014787231\n"
     ]
    }
   ],
   "source": [
    "#H0: p_base = p_low\n",
    "#Ha: p_base < p_low\n",
    "t = (df_base['paid_TF'].mean()- df_low['paid_TF'].mean()) / np.sqrt((df_base['paid_TF'].var() / len(df_base) + df_low['paid_TF'].var() / len(df_low)))\n",
    "print(t)"
   ]
  },
  {
   "cell_type": "code",
   "execution_count": 114,
   "id": "780d50e4",
   "metadata": {},
   "outputs": [
    {
     "name": "stdout",
     "output_type": "stream",
     "text": [
      "1.3927375670609472\n"
     ]
    }
   ],
   "source": [
    "t2 = (df_base['paid_TF'].mean() - df_high['paid_TF'].mean()) / np.sqrt((df_base['paid_TF'].var() / len(df_base) + df_high['paid_TF'].var() / len(df_high)))\n",
    "print(t2)"
   ]
  },
  {
   "cell_type": "code",
   "execution_count": 113,
   "id": "4133b516",
   "metadata": {},
   "outputs": [
    {
     "name": "stdout",
     "output_type": "stream",
     "text": [
      "3992\n"
     ]
    }
   ],
   "source": [
    "p_base = df_base['paid_TF'].mean()\n",
    "p_low = df_low['paid_TF'].mean()\n",
    "t_a = 1.96\n",
    "t_b = 0.84\n",
    "p_mean = df1['paid_TF'].mean()\n",
    "min_effect = 0.03\n",
    "n = ((t_a) * np.sqrt(2 * p_mean * (1 - p_mean)) + t_b * np.sqrt( p_base * (1 - p_base) + p_low * (1 - p_low))) ** 2 / (min_effect * min_effect)\n",
    "n = int(n) + 1\n",
    "print(n)"
   ]
  },
  {
   "cell_type": "code",
   "execution_count": 115,
   "id": "43b43dbe",
   "metadata": {},
   "outputs": [
    {
     "name": "stdout",
     "output_type": "stream",
     "text": [
      "4175\n"
     ]
    }
   ],
   "source": [
    "p_base = df_base['paid_TF'].mean()\n",
    "p_high = df_high['paid_TF'].mean()\n",
    "t_a = 1.96\n",
    "t_b = 0.84\n",
    "p_mean = df1['paid_TF'].mean()\n",
    "min_effect = 0.03\n",
    "n = ((t_a) * np.sqrt(2 * p_mean * (1 - p_mean)) + t_b * np.sqrt( p_base * (1 - p_base) + p_high * (1 - p_high))) ** 2 / (min_effect * min_effect)\n",
    "n = int(n) + 1\n",
    "print(n)"
   ]
  },
  {
   "cell_type": "code",
   "execution_count": 101,
   "id": "fdc2f28e",
   "metadata": {},
   "outputs": [
    {
     "name": "stdout",
     "output_type": "stream",
     "text": [
      "reject H0\n",
      "reject H0\n",
      "reject H0\n",
      "reject H0\n",
      "reject H0\n",
      "reject H0\n",
      "reject H0\n",
      "reject H0\n",
      "reject H0\n",
      "reject H0\n"
     ]
    }
   ],
   "source": [
    "sample = []\n",
    "for i in range(10):\n",
    "    sample_base =  df_base.sample(n)\n",
    "    sample_low =  df_low.sample(173)\n",
    "    t1 = (sample_low['paid_TF'].mean() - sample_base['paid_TF'].mean()) / np.sqrt((sample_base['paid_TF'].var()+sample_low['paid_TF'].var()) / n)\n",
    "    #t2 = (sampleB.mean() - sampleA.mean() - min_effect) / numpy.sqrt((sampleA.var()+sampleB.var()) / n)\n",
    "    sample.append([sample_base, sample_low])\n",
    "    if t1 > t_a:\n",
    "        print('reject H0')\n",
    "    else:\n",
    "        print('accept H0')"
   ]
  },
  {
   "cell_type": "code",
   "execution_count": 108,
   "id": "7ca02f21",
   "metadata": {
    "scrolled": true
   },
   "outputs": [
    {
     "name": "stdout",
     "output_type": "stream",
     "text": [
      "stop early, accept H0\n",
      "stop early, accept H0\n",
      "stop early, accept H0\n",
      "stop early, accept H0\n",
      "stop early, accept H0\n",
      "stop early, accept H0\n",
      "stop early, accept H0\n",
      "stop early, accept H0\n",
      "stop early, accept H0\n",
      "stop early, accept H0\n",
      "[9, 2, 4, 15, 4, 9, 4, 5, 2, 5]\n"
     ]
    }
   ],
   "source": [
    "boundary_wald_low = np.log(0.2 / (1 - 0.05))\n",
    "boundary_wald_high = np.log((1 - 0.2) / 0.05)\n",
    "boundary_conservative_low = np.log(0.2)\n",
    "boundary_conservative_high = np.log(1 / 0.05)\n",
    "f_1 = np.log(p_low / p_base)\n",
    "f_0 = np.log((1 - p_low) / (1 - p_base))\n",
    "count_list = []\n",
    "for j in range(10):\n",
    "    summary = 0\n",
    "    count = 0\n",
    "    sample_A = sample[j][0]\n",
    "    sample_B = sample[j][1]\n",
    "    sample_combine = pd.concat([sample_base, sample_low])\n",
    "    sample_random = sample_combine.sample(frac=1.0)\n",
    "    for i in range(len(sample_random)):\n",
    "        count += 1\n",
    "        if sample_random['paid_TF'].values[i] == 1:\n",
    "            summary += f_1\n",
    "            if summary > boundary_wald_high:\n",
    "                print('stop early, reject H0')\n",
    "                count_list.append(count)                \n",
    "                break\n",
    "        else:\n",
    "            summary += f_0\n",
    "            if summary < boundary_wald_low:\n",
    "                print('stop early, accept H0')\n",
    "                count_list.append(count) \n",
    "                break\n",
    "        if count == len(sample_random):\n",
    "            print('use the full sample')\n",
    "            count_list.append(count)\n",
    "print(count_list)"
   ]
  },
  {
   "cell_type": "markdown",
   "id": "28592dd2",
   "metadata": {},
   "source": [
    "## Attribution"
   ]
  },
  {
   "cell_type": "code",
   "execution_count": 157,
   "id": "561f21a5",
   "metadata": {},
   "outputs": [
    {
     "data": {
      "text/plain": [
       "facebook            119126\n",
       "tv                   39904\n",
       "referral             20882\n",
       "search                8492\n",
       "pinterest             7856\n",
       "other                 6496\n",
       "public_radio          6219\n",
       "social_organic        3869\n",
       "youtube               3108\n",
       "podcast               2995\n",
       "affiliate             1962\n",
       "ott                   1443\n",
       "sirius xm             1122\n",
       "facebook_organic       765\n",
       "direct_mail            408\n",
       "amfm_radio             337\n",
       "Name: attribution_survey, dtype: int64"
      ]
     },
     "execution_count": 157,
     "metadata": {},
     "output_type": "execute_result"
    }
   ],
   "source": [
    "df1.attribution_survey.value_counts()"
   ]
  },
  {
   "cell_type": "code",
   "execution_count": 164,
   "id": "68511d8a",
   "metadata": {},
   "outputs": [
    {
     "data": {
      "text/plain": [
       "facebook                   80251\n",
       "email                      25690\n",
       "search                     25306\n",
       "organic                    22013\n",
       "brand sem intent google    18524\n",
       "google_organic             10691\n",
       "affiliate                   9894\n",
       "email_blast                 7277\n",
       "pinterest                   6065\n",
       "referral                    5170\n",
       "facebook_organic            3272\n",
       "discovery                   2571\n",
       "brand sem intent bing       2231\n",
       "other                       1786\n",
       "display                     1407\n",
       "bing                        1146\n",
       "internal                    1122\n",
       "podcast                      985\n",
       "youtube                      913\n",
       "bing_organic                 369\n",
       "vod                          297\n",
       "ott                          158\n",
       "direct_mail                  139\n",
       "quora                        100\n",
       "samsung                       86\n",
       "appstore                      44\n",
       "criteo                        44\n",
       "pinterest_organic             30\n",
       "influencer                    21\n",
       "playstore                     12\n",
       "content_greatist               5\n",
       "twitter                        5\n",
       "tv                             4\n",
       "Name: attribution_technical, dtype: int64"
      ]
     },
     "execution_count": 164,
     "metadata": {},
     "output_type": "execute_result"
    }
   ],
   "source": [
    "df1.attribution_technical.value_counts()"
   ]
  },
  {
   "cell_type": "code",
   "execution_count": 148,
   "id": "f3114ec3",
   "metadata": {},
   "outputs": [],
   "source": [
    "df_ad=pd.read_excel('advertising_spend_data.xlsx',header=0,names=None)"
   ]
  },
  {
   "cell_type": "code",
   "execution_count": 149,
   "id": "508817bb",
   "metadata": {},
   "outputs": [],
   "source": [
    "df_ad.columns = list(df_ad.loc[1])\n",
    "df_ad = df_ad.drop([0])\n",
    "df_ad = df_ad.drop([1])\n"
   ]
  },
  {
   "cell_type": "code",
   "execution_count": 150,
   "id": "eeb27cb7",
   "metadata": {
    "scrolled": false
   },
   "outputs": [
    {
     "data": {
      "text/html": [
       "<div>\n",
       "<style scoped>\n",
       "    .dataframe tbody tr th:only-of-type {\n",
       "        vertical-align: middle;\n",
       "    }\n",
       "\n",
       "    .dataframe tbody tr th {\n",
       "        vertical-align: top;\n",
       "    }\n",
       "\n",
       "    .dataframe thead th {\n",
       "        text-align: right;\n",
       "    }\n",
       "</style>\n",
       "<table border=\"1\" class=\"dataframe\">\n",
       "  <thead>\n",
       "    <tr style=\"text-align: right;\">\n",
       "      <th></th>\n",
       "      <th>date</th>\n",
       "      <th>facebook</th>\n",
       "      <th>email</th>\n",
       "      <th>search</th>\n",
       "      <th>brand sem intent google</th>\n",
       "      <th>affiliate</th>\n",
       "      <th>email_blast</th>\n",
       "      <th>pinterest</th>\n",
       "      <th>referral</th>\n",
       "      <th>sum</th>\n",
       "    </tr>\n",
       "  </thead>\n",
       "  <tbody>\n",
       "    <tr>\n",
       "      <th>2</th>\n",
       "      <td>2019-06-30 00:00:00</td>\n",
       "      <td>84800</td>\n",
       "      <td>75000</td>\n",
       "      <td>17300</td>\n",
       "      <td>21400</td>\n",
       "      <td>11900</td>\n",
       "      <td>10500</td>\n",
       "      <td>5900</td>\n",
       "      <td>6100</td>\n",
       "      <td>232900</td>\n",
       "    </tr>\n",
       "    <tr>\n",
       "      <th>3</th>\n",
       "      <td>2019-07-31 00:00:00</td>\n",
       "      <td>60000</td>\n",
       "      <td>75600</td>\n",
       "      <td>17300</td>\n",
       "      <td>21300</td>\n",
       "      <td>12000</td>\n",
       "      <td>29800</td>\n",
       "      <td>6000</td>\n",
       "      <td>6600</td>\n",
       "      <td>228600</td>\n",
       "    </tr>\n",
       "    <tr>\n",
       "      <th>4</th>\n",
       "      <td>2019-08-31 00:00:00</td>\n",
       "      <td>52300</td>\n",
       "      <td>76100</td>\n",
       "      <td>18100</td>\n",
       "      <td>21300</td>\n",
       "      <td>16300</td>\n",
       "      <td>65900</td>\n",
       "      <td>6200</td>\n",
       "      <td>6800</td>\n",
       "      <td>263000</td>\n",
       "    </tr>\n",
       "    <tr>\n",
       "      <th>5</th>\n",
       "      <td>2019-09-30 00:00:00</td>\n",
       "      <td>49000</td>\n",
       "      <td>75800</td>\n",
       "      <td>18900</td>\n",
       "      <td>21300</td>\n",
       "      <td>16400</td>\n",
       "      <td>73700</td>\n",
       "      <td>6000</td>\n",
       "      <td>7400</td>\n",
       "      <td>268500</td>\n",
       "    </tr>\n",
       "    <tr>\n",
       "      <th>6</th>\n",
       "      <td>2019-10-31 00:00:00</td>\n",
       "      <td>51300</td>\n",
       "      <td>76000</td>\n",
       "      <td>21000</td>\n",
       "      <td>21400</td>\n",
       "      <td>12200</td>\n",
       "      <td>32300</td>\n",
       "      <td>6700</td>\n",
       "      <td>7300</td>\n",
       "      <td>228200</td>\n",
       "    </tr>\n",
       "    <tr>\n",
       "      <th>7</th>\n",
       "      <td>2019-11-30 00:00:00</td>\n",
       "      <td>56100</td>\n",
       "      <td>75900</td>\n",
       "      <td>21400</td>\n",
       "      <td>21600</td>\n",
       "      <td>11700</td>\n",
       "      <td>9800</td>\n",
       "      <td>6300</td>\n",
       "      <td>7300</td>\n",
       "      <td>210100</td>\n",
       "    </tr>\n",
       "    <tr>\n",
       "      <th>8</th>\n",
       "      <td>2019-12-31 00:00:00</td>\n",
       "      <td>51400</td>\n",
       "      <td>76100</td>\n",
       "      <td>32100</td>\n",
       "      <td>22200</td>\n",
       "      <td>12100</td>\n",
       "      <td>3500</td>\n",
       "      <td>7200</td>\n",
       "      <td>8000</td>\n",
       "      <td>212600</td>\n",
       "    </tr>\n",
       "    <tr>\n",
       "      <th>9</th>\n",
       "      <td>2020-01-31 00:00:00</td>\n",
       "      <td>49000</td>\n",
       "      <td>75500</td>\n",
       "      <td>33600</td>\n",
       "      <td>22700</td>\n",
       "      <td>14300</td>\n",
       "      <td>300</td>\n",
       "      <td>6700</td>\n",
       "      <td>7400</td>\n",
       "      <td>209500</td>\n",
       "    </tr>\n",
       "    <tr>\n",
       "      <th>10</th>\n",
       "      <td>2020-02-29 00:00:00</td>\n",
       "      <td>49700</td>\n",
       "      <td>76600</td>\n",
       "      <td>30100</td>\n",
       "      <td>21700</td>\n",
       "      <td>15000</td>\n",
       "      <td>300</td>\n",
       "      <td>6400</td>\n",
       "      <td>6500</td>\n",
       "      <td>206300</td>\n",
       "    </tr>\n",
       "    <tr>\n",
       "      <th>11</th>\n",
       "      <td>2020-03-31 00:00:00</td>\n",
       "      <td>49100</td>\n",
       "      <td>78000</td>\n",
       "      <td>22700</td>\n",
       "      <td>21200</td>\n",
       "      <td>17600</td>\n",
       "      <td>300</td>\n",
       "      <td>5900</td>\n",
       "      <td>10000</td>\n",
       "      <td>204800</td>\n",
       "    </tr>\n",
       "  </tbody>\n",
       "</table>\n",
       "</div>"
      ],
      "text/plain": [
       "                   date facebook  email search brand sem intent google  \\\n",
       "2   2019-06-30 00:00:00    84800  75000  17300                   21400   \n",
       "3   2019-07-31 00:00:00    60000  75600  17300                   21300   \n",
       "4   2019-08-31 00:00:00    52300  76100  18100                   21300   \n",
       "5   2019-09-30 00:00:00    49000  75800  18900                   21300   \n",
       "6   2019-10-31 00:00:00    51300  76000  21000                   21400   \n",
       "7   2019-11-30 00:00:00    56100  75900  21400                   21600   \n",
       "8   2019-12-31 00:00:00    51400  76100  32100                   22200   \n",
       "9   2020-01-31 00:00:00    49000  75500  33600                   22700   \n",
       "10  2020-02-29 00:00:00    49700  76600  30100                   21700   \n",
       "11  2020-03-31 00:00:00    49100  78000  22700                   21200   \n",
       "\n",
       "   affiliate email_blast pinterest referral     sum  \n",
       "2      11900       10500      5900     6100  232900  \n",
       "3      12000       29800      6000     6600  228600  \n",
       "4      16300       65900      6200     6800  263000  \n",
       "5      16400       73700      6000     7400  268500  \n",
       "6      12200       32300      6700     7300  228200  \n",
       "7      11700        9800      6300     7300  210100  \n",
       "8      12100        3500      7200     8000  212600  \n",
       "9      14300         300      6700     7400  209500  \n",
       "10     15000         300      6400     6500  206300  \n",
       "11     17600         300      5900    10000  204800  "
      ]
     },
     "execution_count": 150,
     "metadata": {},
     "output_type": "execute_result"
    }
   ],
   "source": [
    "df_ad"
   ]
  },
  {
   "cell_type": "code",
   "execution_count": 177,
   "id": "3f030125",
   "metadata": {},
   "outputs": [
    {
     "data": {
      "text/plain": [
       "226450.0"
      ]
     },
     "execution_count": 177,
     "metadata": {},
     "output_type": "execute_result"
    }
   ],
   "source": [
    "df_ad['sum'].mean()"
   ]
  },
  {
   "cell_type": "code",
   "execution_count": 178,
   "id": "8f7af4c0",
   "metadata": {},
   "outputs": [
    {
     "data": {
      "text/plain": [
       "2264500"
      ]
     },
     "execution_count": 178,
     "metadata": {},
     "output_type": "execute_result"
    }
   ],
   "source": [
    "df_ad['sum'].sum()"
   ]
  },
  {
   "cell_type": "code",
   "execution_count": 154,
   "id": "cb6fa767",
   "metadata": {},
   "outputs": [],
   "source": [
    "cost_facebook = df_ad['facebook'].mean()\n",
    "cost_email = df_ad['email'].mean()\n",
    "cost_search = df_ad['search'].mean()\n",
    "cost_google = df_ad['brand sem intent google'].mean()\n",
    "cost_affiliate = df_ad['affiliate'].mean()\n",
    "cost_email_blast = df_ad['email_blast'].mean()\n",
    "cost_pinterest = df_ad['pinterest'].mean()\n",
    "cost_referral = df_ad['referral'].mean()\n",
    "\n",
    "\n"
   ]
  },
  {
   "cell_type": "markdown",
   "id": "2081ad1b",
   "metadata": {},
   "source": [
    "#### Last Interaction"
   ]
  },
  {
   "cell_type": "code",
   "execution_count": 173,
   "id": "5c20748a",
   "metadata": {},
   "outputs": [
    {
     "name": "stdout",
     "output_type": "stream",
     "text": [
      "facebook: 0.69\n",
      "email: 2.96\n",
      "search: 0.92\n",
      "google: 1.17\n",
      "affiliate: 1.41\n",
      "email_blast: 3.11\n",
      "pinterest: 1.04\n",
      "referral: 1.42\n"
     ]
    }
   ],
   "source": [
    "CAC_facebook = cost_facebook / len(df1[df1.attribution_technical == 'facebook'])\n",
    "print('facebook: %.2f'%CAC_facebook)\n",
    "CAC_email =  cost_email / len(df1[df1.attribution_technical == 'email'])\n",
    "print('email: %.2f'%CAC_email)\n",
    "CAC_search = cost_search/ len(df1[df1.attribution_technical == 'search'])\n",
    "print('search: %.2f'%CAC_search)\n",
    "CAC_google = cost_google/ len(df1[df1.attribution_technical == 'brand sem intent google'])\n",
    "print('google: %.2f'%CAC_google)\n",
    "CAC_affiliate = cost_affiliate/ len(df1[df1.attribution_technical == 'affiliate'])\n",
    "print('affiliate: %.2f'%CAC_affiliate)\n",
    "CAC_email_blast = cost_email_blast/ len(df1[df1.attribution_technical == 'email_blast'])\n",
    "print('email_blast: %.2f'%CAC_email_blast)    \n",
    "CAC_pinterest = cost_pinterest/ len(df1[df1.attribution_technical == 'pinterest'])\n",
    "print('pinterest: %.2f'%CAC_pinterest)\n",
    "CAC_referral = cost_referral/ len(df1[df1.attribution_technical == 'referral'])\n",
    "print('referral: %.2f'%CAC_referral)"
   ]
  },
  {
   "cell_type": "markdown",
   "id": "5e9a55ac",
   "metadata": {},
   "source": [
    "#### First Interaction"
   ]
  },
  {
   "cell_type": "code",
   "execution_count": 176,
   "id": "e5afcde5",
   "metadata": {},
   "outputs": [
    {
     "name": "stdout",
     "output_type": "stream",
     "text": [
      "facebook: 0.46\n",
      "email: inf\n",
      "search: 2.74\n",
      "google: inf\n",
      "affiliate: 7.11\n",
      "email_blast: inf\n",
      "pinterest: 0.81\n",
      "referral: 0.35\n"
     ]
    }
   ],
   "source": [
    "CAC_facebook = cost_facebook / len(df1[df1.attribution_survey == 'facebook'])\n",
    "print('facebook: %.2f'%CAC_facebook)\n",
    "CAC_email =  cost_email / len(df1[df1.attribution_survey == 'email'])\n",
    "print('email: %.2f'%CAC_email)\n",
    "CAC_search = cost_search/ len(df1[df1.attribution_survey == 'search'])\n",
    "print('search: %.2f'%CAC_search)\n",
    "CAC_google = cost_google/ len(df1[df1.attribution_survey == 'brand sem intent google'])\n",
    "print('google: %.2f'%CAC_google)\n",
    "CAC_affiliate = cost_affiliate/ len(df1[df1.attribution_survey == 'affiliate'])\n",
    "print('affiliate: %.2f'%CAC_affiliate)\n",
    "CAC_email_blast = cost_email_blast/ len(df1[df1.attribution_survey == 'email_blast'])\n",
    "print('email_blast: %.2f'%CAC_email_blast)    \n",
    "CAC_pinterest = cost_pinterest/ len(df1[df1.attribution_survey == 'pinterest'])\n",
    "print('pinterest: %.2f'%CAC_pinterest)\n",
    "CAC_referral = cost_referral/ len(df1[df1.attribution_survey == 'referral'])\n",
    "print('referral: %.2f'%CAC_referral)"
   ]
  },
  {
   "cell_type": "markdown",
   "id": "0419cd74",
   "metadata": {},
   "source": [
    "## Churn"
   ]
  },
  {
   "cell_type": "code",
   "execution_count": 187,
   "id": "7b839d0f",
   "metadata": {},
   "outputs": [],
   "source": [
    "df1['convert_T/F'] = np.where((df1['paid_TF']==True) & (df1['refund_after_trial_TF']==False), True, False) "
   ]
  },
  {
   "cell_type": "code",
   "execution_count": 199,
   "id": "a2db9e6d",
   "metadata": {},
   "outputs": [],
   "source": [
    "df1['male_TF'] = np.where(df1['male_TF']==True,1,0)\n",
    "df1['retarget_TF'] = np.where(df1['retarget_TF']==True,1,0)"
   ]
  },
  {
   "cell_type": "code",
   "execution_count": 211,
   "id": "b8a6d0af",
   "metadata": {},
   "outputs": [
    {
     "data": {
      "text/plain": [
       "subid                                0\n",
       "package_type                     35574\n",
       "num_weekly_services_utilized    110450\n",
       "preferred_genre                  36326\n",
       "intended_use                      3549\n",
       "weekly_consumption_hour          37930\n",
       "num_ideal_streaming_services    112170\n",
       "retarget_TF                          0\n",
       "age                              35169\n",
       "male_TF                              0\n",
       "country                              0\n",
       "attribution_technical                0\n",
       "attribution_survey                2644\n",
       "op_sys                           13375\n",
       "months_per_bill_period               0\n",
       "plan_type                            0\n",
       "monthly_price                        0\n",
       "discount_price                       0\n",
       "account_creation_date                0\n",
       "creation_until_cancel_days       75860\n",
       "cancel_before_trial_end              0\n",
       "trial_end_date                       0\n",
       "initial_credit_card_declined         0\n",
       "revenue_net                      34904\n",
       "join_fee                         34904\n",
       "language                             0\n",
       "paid_TF                              0\n",
       "refund_after_trial_TF                0\n",
       "payment_type                    135578\n",
       "convert_T/F                          0\n",
       "dtype: int64"
      ]
     },
     "execution_count": 211,
     "metadata": {},
     "output_type": "execute_result"
    }
   ],
   "source": [
    "df1.isnull().sum()"
   ]
  },
  {
   "cell_type": "code",
   "execution_count": 215,
   "id": "86370e59",
   "metadata": {},
   "outputs": [],
   "source": [
    "df_new=df1.fillna(df1.mean())"
   ]
  },
  {
   "cell_type": "code",
   "execution_count": 272,
   "id": "9a4922ef",
   "metadata": {},
   "outputs": [
    {
     "data": {
      "text/html": [
       "<div>\n",
       "<style scoped>\n",
       "    .dataframe tbody tr th:only-of-type {\n",
       "        vertical-align: middle;\n",
       "    }\n",
       "\n",
       "    .dataframe tbody tr th {\n",
       "        vertical-align: top;\n",
       "    }\n",
       "\n",
       "    .dataframe thead th {\n",
       "        text-align: right;\n",
       "    }\n",
       "</style>\n",
       "<table border=\"1\" class=\"dataframe\">\n",
       "  <thead>\n",
       "    <tr style=\"text-align: right;\">\n",
       "      <th></th>\n",
       "      <th>subid</th>\n",
       "      <th>package_type</th>\n",
       "      <th>num_weekly_services_utilized</th>\n",
       "      <th>preferred_genre</th>\n",
       "      <th>intended_use</th>\n",
       "      <th>weekly_consumption_hour</th>\n",
       "      <th>num_ideal_streaming_services</th>\n",
       "      <th>retarget_TF</th>\n",
       "      <th>age</th>\n",
       "      <th>male_TF</th>\n",
       "      <th>...</th>\n",
       "      <th>cancel_before_trial_end</th>\n",
       "      <th>trial_end_date</th>\n",
       "      <th>initial_credit_card_declined</th>\n",
       "      <th>revenue_net</th>\n",
       "      <th>join_fee</th>\n",
       "      <th>language</th>\n",
       "      <th>paid_TF</th>\n",
       "      <th>refund_after_trial_TF</th>\n",
       "      <th>payment_type</th>\n",
       "      <th>convert_T/F</th>\n",
       "    </tr>\n",
       "  </thead>\n",
       "  <tbody>\n",
       "    <tr>\n",
       "      <th>162502</th>\n",
       "      <td>21724479</td>\n",
       "      <td>economy</td>\n",
       "      <td>2.998568</td>\n",
       "      <td>comedy</td>\n",
       "      <td>access to exclusive content</td>\n",
       "      <td>27.997724</td>\n",
       "      <td>1.999848</td>\n",
       "      <td>0</td>\n",
       "      <td>757.975457</td>\n",
       "      <td>0</td>\n",
       "      <td>...</td>\n",
       "      <td>True</td>\n",
       "      <td>2020-02-08</td>\n",
       "      <td>False</td>\n",
       "      <td>1.557353</td>\n",
       "      <td>0.115145</td>\n",
       "      <td>ar</td>\n",
       "      <td>True</td>\n",
       "      <td>False</td>\n",
       "      <td>Standard Charter</td>\n",
       "      <td>True</td>\n",
       "    </tr>\n",
       "    <tr>\n",
       "      <th>380374</th>\n",
       "      <td>23383224</td>\n",
       "      <td>base</td>\n",
       "      <td>2.998568</td>\n",
       "      <td>comedy</td>\n",
       "      <td>access to exclusive content</td>\n",
       "      <td>22.951579</td>\n",
       "      <td>1.999848</td>\n",
       "      <td>0</td>\n",
       "      <td>70.000000</td>\n",
       "      <td>0</td>\n",
       "      <td>...</td>\n",
       "      <td>False</td>\n",
       "      <td>2020-03-16</td>\n",
       "      <td>False</td>\n",
       "      <td>0.000000</td>\n",
       "      <td>0.330300</td>\n",
       "      <td>ar</td>\n",
       "      <td>False</td>\n",
       "      <td>False</td>\n",
       "      <td>NaN</td>\n",
       "      <td>False</td>\n",
       "    </tr>\n",
       "    <tr>\n",
       "      <th>496617</th>\n",
       "      <td>26844789</td>\n",
       "      <td>enhanced</td>\n",
       "      <td>3.362885</td>\n",
       "      <td>regional</td>\n",
       "      <td>replace OTT</td>\n",
       "      <td>36.001186</td>\n",
       "      <td>1.951776</td>\n",
       "      <td>0</td>\n",
       "      <td>25.000000</td>\n",
       "      <td>1</td>\n",
       "      <td>...</td>\n",
       "      <td>False</td>\n",
       "      <td>2019-12-22</td>\n",
       "      <td>False</td>\n",
       "      <td>0.000000</td>\n",
       "      <td>0.110100</td>\n",
       "      <td>ar</td>\n",
       "      <td>False</td>\n",
       "      <td>False</td>\n",
       "      <td>NaN</td>\n",
       "      <td>False</td>\n",
       "    </tr>\n",
       "    <tr>\n",
       "      <th>356799</th>\n",
       "      <td>29417030</td>\n",
       "      <td>base</td>\n",
       "      <td>2.998568</td>\n",
       "      <td>drama</td>\n",
       "      <td>replace OTT</td>\n",
       "      <td>20.051667</td>\n",
       "      <td>1.999848</td>\n",
       "      <td>0</td>\n",
       "      <td>30.000000</td>\n",
       "      <td>0</td>\n",
       "      <td>...</td>\n",
       "      <td>False</td>\n",
       "      <td>2020-02-11</td>\n",
       "      <td>False</td>\n",
       "      <td>0.000000</td>\n",
       "      <td>0.036700</td>\n",
       "      <td>ar</td>\n",
       "      <td>False</td>\n",
       "      <td>False</td>\n",
       "      <td>NaN</td>\n",
       "      <td>False</td>\n",
       "    </tr>\n",
       "    <tr>\n",
       "      <th>681701</th>\n",
       "      <td>26723159</td>\n",
       "      <td>base</td>\n",
       "      <td>3.731089</td>\n",
       "      <td>comedy</td>\n",
       "      <td>replace OTT</td>\n",
       "      <td>22.951579</td>\n",
       "      <td>2.506384</td>\n",
       "      <td>0</td>\n",
       "      <td>28.000000</td>\n",
       "      <td>0</td>\n",
       "      <td>...</td>\n",
       "      <td>False</td>\n",
       "      <td>2019-10-20</td>\n",
       "      <td>False</td>\n",
       "      <td>0.000000</td>\n",
       "      <td>0.036700</td>\n",
       "      <td>ar</td>\n",
       "      <td>False</td>\n",
       "      <td>False</td>\n",
       "      <td>NaN</td>\n",
       "      <td>False</td>\n",
       "    </tr>\n",
       "  </tbody>\n",
       "</table>\n",
       "<p>5 rows × 30 columns</p>\n",
       "</div>"
      ],
      "text/plain": [
       "           subid package_type  num_weekly_services_utilized preferred_genre  \\\n",
       "162502  21724479      economy                      2.998568          comedy   \n",
       "380374  23383224         base                      2.998568          comedy   \n",
       "496617  26844789     enhanced                      3.362885        regional   \n",
       "356799  29417030         base                      2.998568           drama   \n",
       "681701  26723159         base                      3.731089          comedy   \n",
       "\n",
       "                       intended_use  weekly_consumption_hour  \\\n",
       "162502  access to exclusive content                27.997724   \n",
       "380374  access to exclusive content                22.951579   \n",
       "496617                  replace OTT                36.001186   \n",
       "356799                  replace OTT                20.051667   \n",
       "681701                  replace OTT                22.951579   \n",
       "\n",
       "        num_ideal_streaming_services  retarget_TF         age  male_TF  ...  \\\n",
       "162502                      1.999848            0  757.975457        0  ...   \n",
       "380374                      1.999848            0   70.000000        0  ...   \n",
       "496617                      1.951776            0   25.000000        1  ...   \n",
       "356799                      1.999848            0   30.000000        0  ...   \n",
       "681701                      2.506384            0   28.000000        0  ...   \n",
       "\n",
       "       cancel_before_trial_end trial_end_date initial_credit_card_declined  \\\n",
       "162502                    True     2020-02-08                        False   \n",
       "380374                   False     2020-03-16                        False   \n",
       "496617                   False     2019-12-22                        False   \n",
       "356799                   False     2020-02-11                        False   \n",
       "681701                   False     2019-10-20                        False   \n",
       "\n",
       "       revenue_net  join_fee language  paid_TF  refund_after_trial_TF  \\\n",
       "162502    1.557353  0.115145       ar     True                  False   \n",
       "380374    0.000000  0.330300       ar    False                  False   \n",
       "496617    0.000000  0.110100       ar    False                  False   \n",
       "356799    0.000000  0.036700       ar    False                  False   \n",
       "681701    0.000000  0.036700       ar    False                  False   \n",
       "\n",
       "            payment_type  convert_T/F  \n",
       "162502  Standard Charter         True  \n",
       "380374               NaN        False  \n",
       "496617               NaN        False  \n",
       "356799               NaN        False  \n",
       "681701               NaN        False  \n",
       "\n",
       "[5 rows x 30 columns]"
      ]
     },
     "execution_count": 272,
     "metadata": {},
     "output_type": "execute_result"
    }
   ],
   "source": [
    "df_new.head()"
   ]
  },
  {
   "cell_type": "code",
   "execution_count": 216,
   "id": "4e033755",
   "metadata": {},
   "outputs": [],
   "source": [
    "df_train, df_test = model_selection.train_test_split(df_new, test_size=0.3)"
   ]
  },
  {
   "cell_type": "code",
   "execution_count": 217,
   "id": "65a1e3b3",
   "metadata": {},
   "outputs": [],
   "source": [
    "y_train=df_train['convert_T/F']\n",
    "x_train=df_train.drop('convert_T/F',axis=1)\n",
    "y_test=df_test['convert_T/F']\n",
    "x_test=df_test.drop('convert_T/F',axis=1)"
   ]
  },
  {
   "cell_type": "code",
   "execution_count": 233,
   "id": "28acbc18",
   "metadata": {},
   "outputs": [],
   "source": [
    "x_col_name = ['weekly_consumption_hour', 'num_ideal_streaming_services','age','retarget_TF','male_TF']    # list of x covariates"
   ]
  },
  {
   "cell_type": "code",
   "execution_count": 226,
   "id": "27f601a4",
   "metadata": {},
   "outputs": [],
   "source": [
    "from sklearn.linear_model import LogisticRegression\n",
    "from sklearn.metrics import roc_auc_score\n",
    "from sklearn.metrics import roc_curve"
   ]
  },
  {
   "cell_type": "code",
   "execution_count": 234,
   "id": "3ef45d20",
   "metadata": {},
   "outputs": [
    {
     "name": "stdout",
     "output_type": "stream",
     "text": [
      "\n",
      "RESULTS OF LOGIT MODEL FITTING\n",
      "\n",
      "                                 OLS Regression Results                                \n",
      "=======================================================================================\n",
      "Dep. Variable:            convert_T/F   R-squared (uncentered):              -36772.418\n",
      "Model:                            OLS   Adj. R-squared (uncentered):         -36773.572\n",
      "Method:                 Least Squares   F-statistic:                         -3.187e+04\n",
      "Date:                Fri, 16 Dec 2022   Prob (F-statistic):                        1.00\n",
      "Time:                        21:17:08   Log-Likelihood:                     -1.0928e+05\n",
      "No. Observations:              159339   AIC:                                  2.186e+05\n",
      "Df Residuals:                  159334   BIC:                                  2.186e+05\n",
      "Df Model:                           5                                                  \n",
      "Covariance Type:            nonrobust                                                  \n",
      "================================================================================================\n",
      "                                   coef    std err          t      P>|t|      [0.025      0.975]\n",
      "------------------------------------------------------------------------------------------------\n",
      "weekly_consumption_hour          0.0081      0.000     28.959      0.000       0.008       0.009\n",
      "num_ideal_streaming_services     0.0677      0.004     17.801      0.000       0.060       0.075\n",
      "age                           3.433e-08   2.79e-08      1.231      0.218   -2.03e-08     8.9e-08\n",
      "retarget_TF                      0.0460      0.007      6.960      0.000       0.033       0.059\n",
      "male_TF                         -0.0056      0.004     -1.295      0.195      -0.014       0.003\n",
      "==============================================================================\n",
      "Omnibus:                   725823.419   Durbin-Watson:                   2.001\n",
      "Prob(Omnibus):                  0.000   Jarque-Bera (JB):            26549.913\n",
      "Skew:                           0.558   Prob(JB):                         0.00\n",
      "Kurtosis:                       1.341   Cond. No.                     2.37e+05\n",
      "==============================================================================\n",
      "\n",
      "Notes:\n",
      "[1] R² is computed without centering (uncentered) since the model does not contain a constant.\n",
      "[2] Standard Errors assume that the covariance matrix of the errors is correctly specified.\n",
      "[3] The condition number is large, 2.37e+05. This might indicate that there are\n",
      "strong multicollinearity or other numerical problems.\n"
     ]
    }
   ],
   "source": [
    "lpm_model = sm.OLS(endog=df_train['convert_T/F'], exog=df_train[x_col_name])\n",
    "lpm_results = lpm_model.fit()\n",
    "print(\"\\nRESULTS OF LOGIT MODEL FITTING\\n\")\n",
    "print(lpm_results.summary())"
   ]
  },
  {
   "cell_type": "code",
   "execution_count": 235,
   "id": "9600d60d",
   "metadata": {},
   "outputs": [
    {
     "name": "stdout",
     "output_type": "stream",
     "text": [
      "Optimization terminated successfully.\n",
      "         Current function value: 0.654494\n",
      "         Iterations 4\n",
      "\n",
      "RESULTS OF LOGIT MODEL FITTING\n",
      "\n",
      "                           Logit Regression Results                           \n",
      "==============================================================================\n",
      "Dep. Variable:            convert_T/F   No. Observations:               159339\n",
      "Model:                          Logit   Df Residuals:                   159334\n",
      "Method:                           MLE   Df Model:                            4\n",
      "Date:                Fri, 16 Dec 2022   Pseudo R-squ.:                0.001408\n",
      "Time:                        21:17:35   Log-Likelihood:            -1.0429e+05\n",
      "converged:                       True   LL-Null:                   -1.0443e+05\n",
      "Covariance Type:            nonrobust   LLR p-value:                 2.028e-62\n",
      "================================================================================================\n",
      "                                   coef    std err          z      P>|z|      [0.025      0.975]\n",
      "------------------------------------------------------------------------------------------------\n",
      "weekly_consumption_hour          0.0143      0.001     11.729      0.000       0.012       0.017\n",
      "num_ideal_streaming_services    -0.4879      0.017    -29.216      0.000      -0.521      -0.455\n",
      "age                           1.467e-07   1.31e-07      1.123      0.261   -1.09e-07    4.03e-07\n",
      "retarget_TF                      0.1867      0.028      6.637      0.000       0.132       0.242\n",
      "male_TF                          0.1196      0.019      6.452      0.000       0.083       0.156\n",
      "================================================================================================\n"
     ]
    }
   ],
   "source": [
    "logit_model = sm.Logit(endog=df_train['convert_T/F'], exog=df_train[x_col_name])\n",
    "logit_results = logit_model.fit()\n",
    "print(\"\\nRESULTS OF LOGIT MODEL FITTING\\n\")\n",
    "print(logit_results.summary())"
   ]
  },
  {
   "cell_type": "code",
   "execution_count": 265,
   "id": "56d34f18",
   "metadata": {},
   "outputs": [],
   "source": [
    "def apply_offers(df, threshold, base_price, discount_amount, cases, acceptance_rate_churn, acceptance_rate_nonchurn):\n",
    "    df_f = copy.deepcopy(df_train)\n",
    "\n",
    "    # set offer parameters for all observations\n",
    "    df_f['price_no_offer'] = base_price\n",
    "    df_f.loc[df_f['convert_T/F'] == 0, 'price_no_offer'] = 0  # if the person churns they will pay 0\n",
    "\n",
    "    # determine whether indiviudals accept offer\n",
    "    df_f.loc[df_f['convert_T/F'] == 0, 'accept_offer_prob'] = acceptance_rate_churn  # those who were going to churn are less likely to want the offer than those who were going to stay\n",
    "    df_f.loc[df_f['convert_T/F'] == 1, 'accept_offer_prob'] = acceptance_rate_nonchurn\n",
    "\n",
    "    # make offer under lpm predictions for select threshold\n",
    "    df_f['make_offer_lpm'] = (df_f['prob_churn_lpm'] > threshold)     # predict whether individual will churn or not\n",
    "    df_f['accept_offer_lpm'] = (df_f['make_offer_lpm'] & df_f['would_accept_offer_rand_draw'])\n",
    "    df_f['price_lpm_offer'] = df_f['price_no_offer']  # initialize prices from \"do nothing case\"\n",
    "    df_f.loc[df_f['accept_offer_lpm'], 'price_lpm_offer'] = base_price * (1-discount_amount)    # for those who were both made an offer and would accept, set prices to discounted price\n",
    "\n",
    "    # make offer under logit predictions for select threshold\n",
    "    df_f['make_offer_logit'] = (df_f['prob_churn_logit'] > threshold)     # predict whether individual will churn or not\n",
    "    df_f['accept_offer_logit'] = (df_f['make_offer_logit'] & df_f['would_accept_offer_rand_draw'])\n",
    "    df_f['price_logit_offer'] = df_f['price_no_offer']  # initialize prices from \"do nothing case\"\n",
    "    df_f.loc[df_f['accept_offer_logit'], 'price_logit_offer'] = base_price * (1-discount_amount)    # for those who were both made an offer and would accept, set prices to discounted price\n",
    "\n",
    "    df_impact = pd.DataFrame(index=cases, columns=['subs', 'revenue', 'lift_from_no_offer'])\n",
    "    for c in cases:\n",
    "        df_impact.loc[c, 'subs'] = (df_f['price_' + c] > 0).sum()\n",
    "        df_impact.loc[c, 'revenue'] = df_f['price_' + c].sum()\n",
    "    for c in cases:\n",
    "        df_impact.loc[c, 'lift_from_no_offer'] = df_impact.loc[c, 'revenue'] / df_impact.loc['no_offer', 'revenue'] - 1\n",
    "\n",
    "    return df_f, df_impact"
   ]
  }
 ],
 "metadata": {
  "kernelspec": {
   "display_name": "Python 3 (ipykernel)",
   "language": "python",
   "name": "python3"
  },
  "language_info": {
   "codemirror_mode": {
    "name": "ipython",
    "version": 3
   },
   "file_extension": ".py",
   "mimetype": "text/x-python",
   "name": "python",
   "nbconvert_exporter": "python",
   "pygments_lexer": "ipython3",
   "version": "3.9.12"
  }
 },
 "nbformat": 4,
 "nbformat_minor": 5
}
